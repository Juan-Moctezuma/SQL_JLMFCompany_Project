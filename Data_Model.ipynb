{
 "cells": [
  {
   "cell_type": "markdown",
   "id": "specified-legislature",
   "metadata": {},
   "source": [
    "# SQL Company Data Model and Research Queries - Juan Moctezuma\n",
    "\n",
    "\n",
    "This Jupyter Notebook represents the data model or Entity Relationship Diagram (ERD) of the author's fictitious company. The data model represents how the company's SQL (relational) database looks like. The database stores Expedia (flight information only) and Airbnb data on behalf of the fictitious low-cost third party. This fictional enterprise allows the user to book flights and/or reserve Airbnb listings throughout the non-existent “Expedia Airbnb App (EApp)” for a fraction of the cost. Please note that no GUI (Graphical User Interface), Front End, or Full Stack application was created; in addition, dummy data is was created with Python, every transaction is non-existent.\n",
    "\n",
    "The first section contains the model along with a 'Symbols & Description' section. The second section contains SQL Queries describing how the database was built and the last section includes some research queries based on questions made by the author. "
   ]
  },
  {
   "cell_type": "markdown",
   "id": "annoying-tablet",
   "metadata": {},
   "source": [
    "..."
   ]
  },
  {
   "cell_type": "markdown",
   "id": "municipal-conditioning",
   "metadata": {},
   "source": [
    "## 1. Data Model"
   ]
  },
  {
   "cell_type": "markdown",
   "id": "burning-gospel",
   "metadata": {},
   "source": [
    "<img src=\"Extra/PPT_PICTURES/Data_Model.png\" width=75% height=75%>"
   ]
  },
  {
   "cell_type": "markdown",
   "id": "brown-accordance",
   "metadata": {},
   "source": [
    "<img src=\"Extra/PPT_PICTURES/Data_Model_Description_Header.png\" width=20% height=20%>"
   ]
  },
  {
   "cell_type": "markdown",
   "id": "innovative-islam",
   "metadata": {},
   "source": [
    "<img src=\"Extra/PPT_PICTURES/Data_Model_Description.png\" width=80% height=80%>"
   ]
  },
  {
   "cell_type": "markdown",
   "id": "smoking-kernel",
   "metadata": {},
   "source": [
    "## 2. Database"
   ]
  },
  {
   "cell_type": "code",
   "execution_count": null,
   "id": "individual-equipment",
   "metadata": {},
   "outputs": [],
   "source": [
    "##-- This script creates a new database called 'JLMFCompany_DB' --\n",
    "##-- This database (DB) is connected to the 'master' database --\n",
    "USE master\n",
    "GO\n",
    "\n",
    "##-- This query will create a new DB if it doesn't exist already --\n",
    "IF NOT EXISTS (\n",
    "    SELECT [name]\n",
    "        FROM sys.databases\n",
    "        WHERE [name] = 'JLMFCompany_DB'\n",
    ")\n",
    "\n",
    "CREATE DATABASE JLMFCompany_DB\n",
    "GO"
   ]
  },
  {
   "cell_type": "code",
   "execution_count": null,
   "id": "representative-palace",
   "metadata": {},
   "outputs": [],
   "source": [
    "## AIRBNB BOOKING INFO. - TABLE\n",
    "CREATE TABLE AIRBNB_BOOKING_DATA\n",
    "(\n",
    "    HOST_LOCATION_ID VARCHAR(30) NOT NULL UNIQUE,\n",
    "    AIR_CONFIRMATION_ID VARCHAR(30) NOT NULL UNIQUE,\n",
    "    TOTAL_GUESTS INT NOT NULL,\n",
    "    HOST_ID_NO VARCHAR(30) NOT NULL,\n",
    "    RATING_OVERALL DECIMAL(3,2) NOT NULL,\n",
    "    BOOKING_ID VARCHAR(30) NOT NULL UNIQUE, \n",
    ")"
   ]
  },
  {
   "cell_type": "code",
   "execution_count": null,
   "id": "approximate-floor",
   "metadata": {},
   "outputs": [],
   "source": [
    "## AIRBNB RESERVATION DETAILS - TABLE\n",
    "CREATE TABLE AIRBNB_RESERVATION_DETAILS\n",
    "(\n",
    "    LISTING_NAME VARCHAR(230) NOT NULL,\n",
    "    AIR_CONFIRMATION_ID VARCHAR(30) NOT NULL UNIQUE,\n",
    "    HOST_NM VARCHAR(230) NOT NULL,\n",
    "    GUEST_NAME VARCHAR(230) NOT NULL,\n",
    "    GUEST_ADULT_NO INT NOT NULL,\n",
    "    GUEST_CHILDREN_NO INT NOT NULL,\n",
    "    GUEST_INFANT_NO INT NOT NULL,\n",
    "    REASON_TO_VISIT VARCHAR(300) NOT NULL,\n",
    "    START_DT DATE NOT NULL,\n",
    "    END_DT DATE NOT NULL,\n",
    "    HOST_LOCATION_ID VARCHAR(30) NOT NULL UNIQUE\n",
    ")"
   ]
  },
  {
   "cell_type": "code",
   "execution_count": null,
   "id": "massive-triumph",
   "metadata": {},
   "outputs": [],
   "source": [
    "## BOOKING DATA - TABLE\n",
    "CREATE TABLE BOOKINGS\n",
    "(\n",
    "    BOOKING_ID VARCHAR(30) NOT NULL UNIQUE,\n",
    "    BOOKING_CLASS VARCHAR(7) NOT NULL\n",
    ")"
   ]
  },
  {
   "cell_type": "code",
   "execution_count": null,
   "id": "amateur-joshua",
   "metadata": {},
   "outputs": [],
   "source": [
    "## CREDIT/DEBIT CARD INFO. - TABLE\n",
    "CREATE TABLE CARD_DETAILS\n",
    "(\n",
    "    NM VARCHAR(230) NOT NULL,\n",
    "    CARD_COMPANY VARCHAR(100) NOT NULL,\n",
    "    CARD_NO VARCHAR(21) NOT NULL UNIQUE,\n",
    "    EXPIRY VARCHAR(5) NOT NULL,\n",
    "    CVV VARCHAR(3) NOT NULL,\n",
    "    USR_ID VARCHAR(30) NOT NULL,\n",
    "    BILLING_ADDRESS VARCHAR(400) NOT NULL,\n",
    "    BILLING_CITY VARCHAR(100) NOT NULL,\n",
    "    BILLING_STATE VARCHAR(100) NOT NULL,\n",
    "    BILLING_COUNTRY VARCHAR(100) NOT NULL,\n",
    "    BILLING_ZIP_CODE VARCHAR(10) NOT NULL\n",
    ")"
   ]
  },
  {
   "cell_type": "code",
   "execution_count": null,
   "id": "global-witness",
   "metadata": {},
   "outputs": [],
   "source": [
    "## EXPEDIA PASSENGER DATA (5 people per reservation at most) - TABLE\n",
    "CREATE TABLE EXPEDIA_PASSENGER_DATA\n",
    "(\n",
    "    PASSENGER_NAME VARCHAR(230) NOT NULL,\n",
    "    BOOKING_ID VARCHAR(30) NOT NULL UNIQUE,\n",
    "    EXP_E_TICKET_ID VARCHAR(80) NOT NULL UNIQUE,\n",
    "    USER_NATIONALITY VARCHAR(100) NOT NULL,\n",
    "    USER_PASSPORT_NO VARCHAR(70) NOT NULL UNIQUE,\n",
    "    PASSENGER_2_NAME VARCHAR(230),\n",
    "    EXP_E_TICKET_ID_2 VARCHAR(80) UNIQUE,\n",
    "    PASSENGER_2_NATIONALITY VARCHAR(100),\n",
    "    PASSPORT_NO_PASSENGER_2 VARCHAR(70) UNIQUE,\n",
    "    PASSENGER_3_NAME VARCHAR(230),\n",
    "    EXP_E_TICKET_ID_3 VARCHAR(80) UNIQUE,\n",
    "    PASSENGER_3_NATIONALITY VARCHAR(100),\n",
    "    PASSPORT_NO_PASSENGER_3 VARCHAR(70) UNIQUE,\n",
    "    PASSENGER_4_NAME VARCHAR(230),\n",
    "    EXP_E_TICKET_ID_4 VARCHAR(80) UNIQUE,\n",
    "    PASSENGER_4_NATIONALITY VARCHAR(100),\n",
    "    PASSPORT_NO_PASSENGER_4 VARCHAR(70) UNIQUE,\n",
    "    PASSENGER_5_NAME VARCHAR(230),\n",
    "    EXP_E_TICKET_ID_5 VARCHAR(80) UNIQUE,\n",
    "    PASSENGER_5_NATIONALITY VARCHAR(100),\n",
    "    PASSPORT_NO_PASSENGER_5 VARCHAR(70) UNIQUE,\n",
    "    PASSENGER_2_NAME_M VARCHAR(230),\n",
    "    EXP_E_TICKET_ID_2_M VARCHAR(80) UNIQUE,\n",
    "    PASSENGER_2_M_NATIONALITY VARCHAR(100),\n",
    "    PASSPORT_NO_PASSENGER_2_M VARCHAR(70) UNIQUE,\n",
    "    PASSENGER_3_NAME_M VARCHAR(230),\n",
    "    EXP_E_TICKET_ID_3_M VARCHAR(80) UNIQUE,\n",
    "    PASSENGER_3_M_NATIONALITY VARCHAR(100),\n",
    "    PASSPORT_NO_PASSENGER_3_M VARCHAR(70) UNIQUE,\n",
    "    PASSENGER_4_NAME_M VARCHAR(230),\n",
    "    EXP_E_TICKET_ID_4_M VARCHAR(80) UNIQUE,\n",
    "    PASSENGER_4_M_NATIONALITY VARCHAR(100),\n",
    "    PASSPORT_NO_PASSENGER_4_M VARCHAR(70) UNIQUE,\n",
    "    PASSENGER_5_NAME_M VARCHAR(230),\n",
    "    EXP_E_TICKET_ID_5_M VARCHAR(80) UNIQUE,\n",
    "    PASSENGER_5_M_NATIONALITY VARCHAR(100),\n",
    "    PASSPORT_NO_PASSENGER_5_M VARCHAR(70) UNIQUE,\n",
    "    PASSENGER_2_NAME_I VARCHAR(230),\n",
    "    EXP_E_TICKET_ID_2_I VARCHAR(80) UNIQUE,\n",
    "    PASSENGER_2_I_NATIONALITY VARCHAR(100),\n",
    "    PASSPORT_NO_PASSENGER_2_I VARCHAR(70) UNIQUE,\n",
    "    PASSENGER_3_NAME_I VARCHAR(230),\n",
    "    EXP_E_TICKET_ID_3_I VARCHAR(80) UNIQUE,\n",
    "    PASSENGER_3_I_NATIONALITY VARCHAR(100),\n",
    "    PASSPORT_NO_PASSENGER_3_I VARCHAR(70) UNIQUE,\n",
    "    PASSENGER_4_NAME_I VARCHAR(230),\n",
    "    EXP_E_TICKET_ID_4_I VARCHAR(80) UNIQUE,\n",
    "    PASSENGER_4_I_NATIONALITY VARCHAR(100),\n",
    "    PASSPORT_NO_PASSENGER_4_I VARCHAR(70) UNIQUE,\n",
    "    PASSENGER_5_NAME_I VARCHAR(230),\n",
    "    EXP_E_TICKET_ID_5_I VARCHAR(80) UNIQUE,\n",
    "    PASSENGER_5_I_NATIONALITY VARCHAR(100),\n",
    "    PASSPORT_NO_PASSENGER_5_I VARCHAR(70) UNIQUE\n",
    ")"
   ]
  },
  {
   "cell_type": "code",
   "execution_count": null,
   "id": "liquid-headset",
   "metadata": {},
   "outputs": [],
   "source": [
    "## FLIGHT TICKET DATA - TABLE\n",
    "CREATE TABLE EXPEDIA_PASSENGER_TICKETS\n",
    "(\n",
    "    FLIGHT_CONFIRMATION_ID VARCHAR(15) NOT NULL UNIQUE,\n",
    "    ALL_CATEGORIES_TICKET_ID VARCHAR(80) NOT NULL UNIQUE\n",
    ")"
   ]
  },
  {
   "cell_type": "code",
   "execution_count": null,
   "id": "embedded-apple",
   "metadata": {},
   "outputs": [],
   "source": [
    "## FLIGHT DETAILS - TABLE\n",
    "CREATE TABLE EXPEDIA_TRIP_DETAILS\n",
    "(\n",
    "    ORIGIN VARCHAR(400) NOT NULL,\n",
    "    DESTINATION VARCHAR(400) NOT NULL,\n",
    "    FLIGHT_CONFIRMATION_ID VARCHAR(15) NOT NULL UNIQUE,\n",
    "    DEPARTING_DATE DATE NOT NULL,\n",
    "    RETURNING_DATE DATE,\n",
    "    TICKET_CATEGORY VARCHAR(10) NOT NULL,\n",
    "    DEPT_FLIGHT_TYPE VARCHAR(15) NOT NULL,\n",
    "    DEPT_FIRST_FLIGHT_NO VARCHAR(15) NOT NULL,\n",
    "    DEPT_SECOND_FLIGHT_NO VARCHAR(15),\n",
    "    DEPT_THIRD_FLIGHT_NO VARCHAR(15),\n",
    "    DEPT_TRIP_DURATION_HR DECIMAL(5,2) NOT NULL,\n",
    "    RTRN_FLIGHT_TYPE VARCHAR(15) NOT NULL,\n",
    "    RTRN_FIRST_FLIGHT_NO VARCHAR(15),\n",
    "    RTRN_SECOND_FLIGHT_NO VARCHAR(15),\n",
    "    RTRN_THIRD_FLIGHT_NO VARCHAR(15),\n",
    "    RTRN_TRIP_DURATION_HR DECIMAL(5,2) NOT NULL\n",
    ")"
   ]
  },
  {
   "cell_type": "code",
   "execution_count": null,
   "id": "accredited-tribune",
   "metadata": {},
   "outputs": [],
   "source": [
    "## HOST DATA - TABLE\n",
    "CREATE TABLE HOST_INFO\n",
    "(\n",
    "    HOST_ID_NO VARCHAR(30) NOT NULL UNIQUE,\n",
    "    HOST_FIRST_NAME VARCHAR(80) NOT NULL,\n",
    "    HOST_LAST_NAME VARCHAR(150) NOT NULL,\n",
    "    HOST_NM VARCHAR(230) NOT NULL,\n",
    "    LISTING_NAME VARCHAR(230) NOT NULL UNIQUE,\n",
    "    LISTING_TYPE VARCHAR(80) NOT NULL,\n",
    "    HOST_LOCATION_ID VARCHAR(30) NOT NULL UNIQUE,\n",
    "    H_ADDRESS VARCHAR(400) NOT NULL UNIQUE,\n",
    "    H_CITY VARCHAR(100) NOT NULL,\n",
    "    H_STATE VARCHAR(100) NOT NULL,\n",
    "    ZIP_CODE VARCHAR(10) NOT NULL,\n",
    "    COUNTRY VARCHAR(100) NOT NULL\n",
    ")"
   ]
  },
  {
   "cell_type": "code",
   "execution_count": null,
   "id": "above-marina",
   "metadata": {},
   "outputs": [],
   "source": [
    "## AIRBNB GUEST REVIEW DATA - TABLE\n",
    "CREATE TABLE REVIEWS\n",
    "(\n",
    "    REVIEWER VARCHAR(230),\n",
    "    RATING INT,\n",
    "    AIR_CONFIRMATION_ID VARCHAR(30) NOT NULL UNIQUE\n",
    ")"
   ]
  },
  {
   "cell_type": "code",
   "execution_count": null,
   "id": "laden-phoenix",
   "metadata": {},
   "outputs": [],
   "source": [
    "## USER ACCOUNT DATA OR USER REGISTRATION INFO. - TABLE\n",
    "CREATE TABLE USER_ACCOUNT\n",
    "(\n",
    "    USER_NM VARCHAR(150) NOT NULL UNIQUE,\n",
    "    FIRST_NAME VARCHAR(80) NOT NULL,\n",
    "    LAST_NAME VARCHAR(150) NOT NULL,\n",
    "    FIRST_LAST_NAME VARCHAR(230) NOT NULL,\n",
    "    USR_ID VARCHAR(30) NOT NULL UNIQUE,\n",
    "    USER_ADDRESS VARCHAR(400) NOT NULL,\n",
    "    USER_CITY VARCHAR(100) NOT NULL,\n",
    "    USER_STATE VARCHAR(100) NOT NULL,\n",
    "    USER_COUNTRY VARCHAR(100) NOT NULL,\n",
    "    USER_ZIP_CODE VARCHAR(10) NOT NULL,\n",
    "    USER_EMAIL VARCHAR(200) NOT NULL UNIQUE,\n",
    "    USER_BDAY DATE NOT NULL,\n",
    "    USER_PHONE VARCHAR(100),\n",
    "    USER_NATIONALITY VARCHAR(100) NOT NULL,\n",
    "    USER_PASSPORT_NO VARCHAR(70) NOT NULL UNIQUE\n",
    ")"
   ]
  },
  {
   "cell_type": "code",
   "execution_count": null,
   "id": "technological-router",
   "metadata": {},
   "outputs": [],
   "source": [
    "## USER RECORD DATA - TABLE\n",
    "CREATE TABLE USER_RECORDS\n",
    "(\n",
    "    ORDER_NO INT NOT NULL PRIMARY KEY,\n",
    "    USR_ID VARCHAR(30) NOT NULL,\n",
    "    TRANSACTION_DATE DATE NOT NULL,\n",
    "    TRANSACTION_ID VARCHAR(120) NOT NULL UNIQUE,\n",
    "    BOOKING_ID VARCHAR(30) NOT NULL UNIQUE\n",
    ");"
   ]
  },
  {
   "cell_type": "markdown",
   "id": "sunset-planner",
   "metadata": {},
   "source": [
    "## 3. Research Queries"
   ]
  },
  {
   "cell_type": "code",
   "execution_count": null,
   "id": "under-gasoline",
   "metadata": {},
   "outputs": [],
   "source": [
    "## QUERY OBJECTIVE: OBSERVATION\n",
    "''' \n",
    "1) Who are the users that opened an account but have not \n",
    "booked any flights or reserved any Airbnb listing through \n",
    "the “AEApp”?'''\n",
    "\n",
    "SELECT \n",
    "    UA.USER_ID, \n",
    "    UA.FIRST_LAST_NAME, \n",
    "    UR.TRANSACTION_DATE, \n",
    "    UR.TRANSACTION_ID \n",
    "FROM \n",
    "    USER_ACCOUNT UA\n",
    "FULL OUTER JOIN USER_RECORDS UR\n",
    "    ON UA.USER_ID = UR.USER_ID\n",
    "FULL OUTER JOIN CARD_DETAILS CD\n",
    "    ON UA.USER_ID = CD.USER_ID\n",
    "WHERE UR.TRANSACTION_DATE IS NULL AND UR.TRANSACTION_DATE IS NULL\n",
    ";"
   ]
  },
  {
   "cell_type": "markdown",
   "id": "hydraulic-sleeve",
   "metadata": {},
   "source": [
    "<img src=\"Extra/PPT_PICTURES/Q1.png\" width=60% height=60%>"
   ]
  },
  {
   "cell_type": "code",
   "execution_count": null,
   "id": "stylish-director",
   "metadata": {},
   "outputs": [],
   "source": [
    "## QUERY OBJECTIVE: RECORD LOOKUP\n",
    "'''\n",
    "2) What is the booking id, credit/debit card number and \n",
    "transaction identifier linked to order number 95?'''\n",
    "\n",
    "SELECT \n",
    "   CD.CARD_NO,\n",
    "   UR.ORDER_NO,\n",
    "   B.BOOKING_ID,\n",
    "   UR.TRANSACTION_ID\n",
    "FROM \n",
    "    BOOKINGS B \n",
    "JOIN USER_RECORDS UR\n",
    "    ON UR.BOOKING_ID = B.BOOKING_ID\n",
    "JOIN CARD_DETAILS CD \n",
    "    ON CD.USER_ID = UR.USER_ID\n",
    "WHERE UR.ORDER_NO < 96 AND UR.ORDER_NO > 94\n",
    ";"
   ]
  },
  {
   "cell_type": "markdown",
   "id": "british-yukon",
   "metadata": {},
   "source": [
    "<img src=\"Extra/PPT_PICTURES/Q2.png\" width=80% height=80%>"
   ]
  },
  {
   "cell_type": "code",
   "execution_count": null,
   "id": "motivated-tomorrow",
   "metadata": {},
   "outputs": [],
   "source": [
    "## QUERY OBJECTIVE: DATE RANGE & FILTERING\n",
    "'''\n",
    "3)  Who are the users (account holders) and their respective \n",
    "phone numbers linked to every, and linked to every purchase or \n",
    "transaction that occurred after April 20, 2016?'''\n",
    "\n",
    "SELECT \n",
    "    UA.FIRST_LAST_NAME,\n",
    "    UA.USER_ID,\n",
    "    UA.USER_PHONE \n",
    "FROM \n",
    "    USER_ACCOUNT UA\n",
    "INNER JOIN EXPEDIA_PASSENGER_DATA EPD \n",
    "    ON EPD.PASSENGER_NAME = UA.FIRST_LAST_NAME\n",
    "INNER JOIN USER_RECORDS UR \n",
    "    ON UR.USER_ID = UA.USER_ID \n",
    "WHERE UR.TRANSACTION_DATE > '4/20/2016'\n",
    ";"
   ]
  },
  {
   "cell_type": "markdown",
   "id": "hundred-thermal",
   "metadata": {},
   "source": [
    "<img src=\"Extra/PPT_PICTURES/Q3.png\" width=60% height=60%>"
   ]
  },
  {
   "cell_type": "code",
   "execution_count": null,
   "id": "animal-uganda",
   "metadata": {},
   "outputs": [],
   "source": [
    "## QUERY OBJECTIVE: NUMERICAL - AVERAGE\n",
    "'''\n",
    "4) What is the average overall rating for every Airbnb listing \n",
    "in each city within the United States?'''\n",
    "\n",
    "SELECT \n",
    "    ROUND(AVG(ABD.RATING_OVERALL),2) AS AVG_RATING_X_CITY,\n",
    "    HI.CITY\n",
    "FROM \n",
    "    AIRBNB_BOOKING_DATA ABD\n",
    "JOIN \n",
    "    HOST_INFO HI\n",
    "    ON HI.HOST_LOCATION_ID = ABD.HOST_LOCATION_ID\n",
    "WHERE\n",
    "    HI.COUNTRY LIKE '%UNITED STATES%'\n",
    "GROUP BY \n",
    "    HI.CITY\n",
    "ORDER BY \n",
    "    AVG_RATING_X_CITY DESC\n",
    ";"
   ]
  },
  {
   "cell_type": "markdown",
   "id": "short-washington",
   "metadata": {},
   "source": [
    "<img src=\"Extra/PPT_PICTURES/Q4.png\" width=35% height=35%>"
   ]
  },
  {
   "cell_type": "code",
   "execution_count": null,
   "id": "adverse-donna",
   "metadata": {},
   "outputs": [],
   "source": [
    "## QUERY OBJECTIVE: NUMERICAL - PERCENTAGE\n",
    "'''\n",
    "5) What is the percentage of guests per category (adults, minors and children) in \n",
    "each Airbnb reservation (AIR_CONFIRMATION_ID)? What are the host names and arrival \n",
    "dates linked to every reservation?'''\n",
    "\n",
    "SELECT \n",
    "    HI.HOST_NAME, \n",
    "    ARD.AIR_CONFIRMATION_ID,\n",
    "    ARD.START_DATE,\n",
    "    ARD.END_DATE, \n",
    "    FORMAT(ROUND(SUM(ARD.GUEST_ADULT_NO) * 100.0 / SUM(ABD.TOTAL_GUESTS),3),'0.0#') AS GUEST_ADULT_PERCENT,\n",
    "    FORMAT(ROUND(SUM(ARD.GUEST_CHILDREN_NO) * 100.0 / SUM(ABD.TOTAL_GUESTS),3),'0.0#') AS GUEST_CHILDREN_PERCENT,\n",
    "    FORMAT(ROUND(SUM(ARD.GUEST_INFANT_NO) *100.0 / SUM(ABD.TOTAL_GUESTS),3),'0.0#') AS GUEST_INFANT_PERCENT \n",
    "FROM \n",
    "    AIRBNB_RESERVATION_DETAILS ARD\n",
    "    JOIN \n",
    "        AIRBNB_BOOKING_DATA ABD\n",
    "        ON ABD.AIR_CONFIRMATION_ID = ARD.AIR_CONFIRMATION_ID \n",
    "    JOIN \n",
    "        HOST_INFO HI\n",
    "        ON HI.HOST_ID = ABD.HOST_ID \n",
    "WHERE \n",
    "    ARD.START_DATE > '12/31/2018' AND ARD.START_DATE < '1/1/2020'\n",
    "GROUP BY \n",
    "    ARD.AIR_CONFIRMATION_ID, HI.HOST_NAME, ARD.START_DATE, ARD.END_DATE\n",
    "ORDER BY \n",
    "    HI.HOST_NAME ASC;"
   ]
  },
  {
   "cell_type": "markdown",
   "id": "lyric-lottery",
   "metadata": {},
   "source": [
    "<img src=\"Extra/PPT_PICTURES/Q5.png\" width=90% height=90%>"
   ]
  },
  {
   "cell_type": "code",
   "execution_count": null,
   "id": "ahead-architect",
   "metadata": {},
   "outputs": [],
   "source": [
    "## QUERY OBJECTIVE: NUMERICAL SUM\n",
    "'''\n",
    "6) What is the sum of every flight passenger to every flight confirmation id?'''\n",
    "\n",
    "SELECT \n",
    "    EPT.FLIGHT_CONFIRMATION_ID, \n",
    "    COUNT(EPT.FLIGHT_CONFIRMATION_ID) AS PASSENGER_COUNT \n",
    "FROM \n",
    "    EXPEDIA_PASSENGER_TICKETS EPT\n",
    "GROUP BY EPT.FLIGHT_CONFIRMATION_ID\n",
    "\n",
    "UNION ALL\n",
    "\n",
    "SELECT \n",
    "    'SUM' FLIGHT_CONFIRMATION_ID, \n",
    "    COUNT(FLIGHT_CONFIRMATION_ID) \n",
    "FROM \n",
    "    EXPEDIA_PASSENGER_TICKETS\n",
    ";"
   ]
  },
  {
   "cell_type": "markdown",
   "id": "lasting-directory",
   "metadata": {},
   "source": [
    "<img src=\"Extra/PPT_PICTURES/Q6.png\" width=35% height=35%>"
   ]
  },
  {
   "cell_type": "code",
   "execution_count": null,
   "id": "virtual-advancement",
   "metadata": {},
   "outputs": [],
   "source": [
    "## QUERY OBJECTIVE: TRENDS & PATTERNS\n",
    "'''\n",
    "7) What are the longest round-trips and nonstop flights that have been booked?'''\n",
    "\n",
    "SELECT \n",
    "    FLIGHT_CONFIRMATION_ID, \n",
    "    DEPT_FIRST_FLIGHT_NO,\n",
    "    DEPT_TRIP_DURATION_HR,\n",
    "    RTRN_FIRST_FLIGHT_NO,\n",
    "    RTRN_TRIP_DURATION_HR,\n",
    "    FORMAT(SUM(DEPT_TRIP_DURATION_HR) + SUM(RTRN_TRIP_DURATION_HR),'0.0#') AS TOTAL_TRIP_DURATION\n",
    "\n",
    "FROM \n",
    "    EXPEDIA_TRIP_DETAILS\n",
    "WHERE \n",
    "    RTRN_FLIGHT_TYPE != 'NA' AND RTRN_FLIGHT_TYPE != 'LAYOVER'\n",
    "GROUP BY \n",
    "    FLIGHT_CONFIRMATION_ID, \n",
    "    DEPT_FIRST_FLIGHT_NO, \n",
    "    RTRN_FIRST_FLIGHT_NO, \n",
    "    DEPT_TRIP_DURATION_HR, \n",
    "    RTRN_TRIP_DURATION_HR\n",
    "HAVING\n",
    "    COUNT(DEPT_FIRST_FLIGHT_NO) = 1 AND COUNT(DEPT_SECOND_FLIGHT_NO) = 0 AND COUNT(DEPT_THIRD_FLIGHT_NO) = 0\n",
    "ORDER BY RTRN_TRIP_DURATION_HR DESC\n",
    ";"
   ]
  },
  {
   "cell_type": "markdown",
   "id": "experimental-variance",
   "metadata": {},
   "source": [
    "<img src=\"Extra/PPT_PICTURES/Q7.png\" width=95% height=95%>"
   ]
  },
  {
   "cell_type": "code",
   "execution_count": null,
   "id": "following-nothing",
   "metadata": {},
   "outputs": [],
   "source": []
  }
 ],
 "metadata": {
  "kernelspec": {
   "display_name": "Python 3",
   "language": "python",
   "name": "python3"
  },
  "language_info": {
   "codemirror_mode": {
    "name": "ipython",
    "version": 3
   },
   "file_extension": ".py",
   "mimetype": "text/x-python",
   "name": "python",
   "nbconvert_exporter": "python",
   "pygments_lexer": "ipython3",
   "version": "3.7.0"
  }
 },
 "nbformat": 4,
 "nbformat_minor": 5
}
